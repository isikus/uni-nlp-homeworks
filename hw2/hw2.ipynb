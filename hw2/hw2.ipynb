{
  "nbformat": 4,
  "nbformat_minor": 0,
  "metadata": {
    "colab": {
      "name": "hw2",
      "provenance": [],
      "collapsed_sections": [
        "DcugkDSUt-th",
        "cwdL-n2he2pM"
      ]
    },
    "kernelspec": {
      "name": "python3",
      "display_name": "Python 3"
    }
  },
  "cells": [
    {
      "cell_type": "markdown",
      "metadata": {
        "id": "eGqtcMfLrhrK",
        "colab_type": "text"
      },
      "source": [
        "# Задание 2: Извлечение коллокаций"
      ]
    },
    {
      "cell_type": "markdown",
      "metadata": {
        "id": "A0nhlw9-_Q7U",
        "colab_type": "text"
      },
      "source": [
        "Выполнено на мощностях [Google Colab](https://colab.research.google.com/drive/1I1QRHbF6W---8LkzfR1ldpDiMcyLj1zs)\n",
        "\n",
        "\n",
        "\n"
      ]
    },
    {
      "cell_type": "markdown",
      "metadata": {
        "id": "7udzTaZ4robS",
        "colab_type": "text"
      },
      "source": [
        "## Пункт 1"
      ]
    },
    {
      "cell_type": "markdown",
      "metadata": {
        "id": "kW3yCkf_ryqq",
        "colab_type": "text"
      },
      "source": [
        "*Скачайте корпус текстов, обработайте его с помощью UDPipe, извлеките все группы \"глагол + прямое дополнение, выраженное существительным\" (не учитывайте глаголы, которые встречаются в корпусе менее 50 раз).*"
      ]
    },
    {
      "cell_type": "markdown",
      "metadata": {
        "id": "DcugkDSUt-th",
        "colab_type": "text"
      },
      "source": [
        "#### Поставим необходимые зависимости:"
      ]
    },
    {
      "cell_type": "code",
      "metadata": {
        "id": "lQq0GgpftuP-",
        "colab_type": "code",
        "outputId": "d08fa36e-36c3-43ab-ce43-c5a9aa99a2fb",
        "colab": {
          "base_uri": "https://localhost:8080/",
          "height": 0
        }
      },
      "source": [
        "!wget https://raw.githubusercontent.com/sjut/HSE-Compling/master/hw/testset2.txt"
      ],
      "execution_count": 1,
      "outputs": [
        {
          "output_type": "stream",
          "text": [
            "--2019-12-17 03:54:45--  https://raw.githubusercontent.com/sjut/HSE-Compling/master/hw/testset2.txt\n",
            "Resolving raw.githubusercontent.com (raw.githubusercontent.com)... 151.101.0.133, 151.101.64.133, 151.101.128.133, ...\n",
            "Connecting to raw.githubusercontent.com (raw.githubusercontent.com)|151.101.0.133|:443... connected.\n",
            "HTTP request sent, awaiting response... 200 OK\n",
            "Length: 1887901 (1.8M) [text/plain]\n",
            "Saving to: ‘testset2.txt.2’\n",
            "\n",
            "\rtestset2.txt.2        0%[                    ]       0  --.-KB/s               \rtestset2.txt.2      100%[===================>]   1.80M  --.-KB/s    in 0.09s   \n",
            "\n",
            "2019-12-17 03:54:45 (20.5 MB/s) - ‘testset2.txt.2’ saved [1887901/1887901]\n",
            "\n"
          ],
          "name": "stdout"
        }
      ]
    },
    {
      "cell_type": "code",
      "metadata": {
        "id": "jZ5Q1oZOt5ab",
        "colab_type": "code",
        "outputId": "c428f402-d080-42d9-f7f0-b81f331df34b",
        "colab": {
          "base_uri": "https://localhost:8080/",
          "height": 0
        }
      },
      "source": [
        "!wget https://lindat.mff.cuni.cz/repository/xmlui/bitstream/handle/11234/1-2998/russian-syntagrus-ud-2.4-190531.udpipe?sequence=74&amp;isAllowed=y\n",
        "!mv russian-syntagrus-ud-2.4-190531.udpipe?sequence=74 russian-syntagrus-ud-2.4-190531.udpipe"
      ],
      "execution_count": 2,
      "outputs": [
        {
          "output_type": "stream",
          "text": [
            "/bin/bash: amp: command not found\n",
            "--2019-12-17 03:54:50--  https://lindat.mff.cuni.cz/repository/xmlui/bitstream/handle/11234/1-2998/russian-syntagrus-ud-2.4-190531.udpipe?sequence=74\n",
            "Resolving lindat.mff.cuni.cz (lindat.mff.cuni.cz)... 195.113.20.140\n",
            "Connecting to lindat.mff.cuni.cz (lindat.mff.cuni.cz)|195.113.20.140|:443... connected.\n",
            "HTTP request sent, awaiting response... 200 OK\n",
            "Length: 45859472 (44M) [application/octet-stream]\n",
            "Saving to: ‘russian-syntagrus-ud-2.4-190531.udpipe?sequence=74’\n",
            "\n",
            "russian-syntagrus-u 100%[===================>]  43.73M  15.8MB/s    in 2.8s    \n",
            "\n",
            "2019-12-17 03:54:53 (15.8 MB/s) - ‘russian-syntagrus-ud-2.4-190531.udpipe?sequence=74’ saved [45859472/45859472]\n",
            "\n"
          ],
          "name": "stdout"
        }
      ]
    },
    {
      "cell_type": "code",
      "metadata": {
        "id": "b-xuffc5uExC",
        "colab_type": "code",
        "outputId": "1a40a7e1-3ef2-4960-e83b-1931d46f5021",
        "colab": {
          "base_uri": "https://localhost:8080/",
          "height": 0
        }
      },
      "source": [
        "!pip install ufal.udpipe"
      ],
      "execution_count": 3,
      "outputs": [
        {
          "output_type": "stream",
          "text": [
            "Requirement already satisfied: ufal.udpipe in /usr/local/lib/python3.6/dist-packages (1.2.0.3)\n"
          ],
          "name": "stdout"
        }
      ]
    },
    {
      "cell_type": "markdown",
      "metadata": {
        "id": "WHdwiBeSuw6l",
        "colab_type": "text"
      },
      "source": [
        "#### Теперь приступим к выполнению пункта:"
      ]
    },
    {
      "cell_type": "markdown",
      "metadata": {
        "id": "7UETTEznuLwy",
        "colab_type": "text"
      },
      "source": [
        "Создадим объект UDPipe:"
      ]
    },
    {
      "cell_type": "code",
      "metadata": {
        "id": "0G4BN_deuP7Z",
        "colab_type": "code",
        "colab": {}
      },
      "source": [
        "import ufal.udpipe\n",
        "\n",
        "class UDPipeModel:\n",
        "    def __init__(self, path):\n",
        "        \"\"\"Load given model.\"\"\"\n",
        "        self.model = ufal.udpipe.Model.load(path)\n",
        "        if not self.model:\n",
        "            raise Exception(\"Cannot load UDPipe model from file '%s'\" % path)\n",
        "\n",
        "    def tokenize(self, text):\n",
        "        \"\"\"Tokenize the text and return list of ufal.udpipe.Sentence-s.\"\"\"\n",
        "        tokenizer = self.model.newTokenizer(self.model.DEFAULT)\n",
        "        if not tokenizer:\n",
        "            raise Exception(\"The model does not have a tokenizer\")\n",
        "        return self._read(text, tokenizer)\n",
        "\n",
        "    def read(self, text, in_format):\n",
        "        \"\"\"Load text in the given format (conllu|horizontal|vertical) and return list of ufal.udpipe.Sentence-s.\"\"\"\n",
        "        input_format = ufal.udpipe.InputFormat.newInputFormat(in_format)\n",
        "        if not input_format:\n",
        "            raise Exception(\"Cannot create input format '%s'\" % in_format)\n",
        "        return self._read(text, input_format)\n",
        "\n",
        "    def _read(self, text, input_format):\n",
        "        input_format.setText(text)\n",
        "        error = ufal.udpipe.ProcessingError()\n",
        "        sentences = []\n",
        "\n",
        "        sentence = ufal.udpipe.Sentence()\n",
        "        while input_format.nextSentence(sentence, error):\n",
        "            sentences.append(sentence)\n",
        "            sentence = ufal.udpipe.Sentence()\n",
        "        if error.occurred():\n",
        "            raise Exception(error.message)\n",
        "\n",
        "        return sentences\n",
        "\n",
        "    def tag(self, sentence):\n",
        "        \"\"\"Tag the given ufal.udpipe.Sentence (inplace).\"\"\"\n",
        "        self.model.tag(sentence, self.model.DEFAULT)\n",
        "\n",
        "    def parse(self, sentence):\n",
        "        \"\"\"Parse the given ufal.udpipe.Sentence (inplace).\"\"\"\n",
        "        self.model.parse(sentence, self.model.DEFAULT)\n",
        "\n",
        "    def write(self, sentences, out_format):\n",
        "        \"\"\"Write given ufal.udpipe.Sentence-s in the required format (conllu|horizontal|vertical).\"\"\"\n",
        "\n",
        "        output_format = ufal.udpipe.OutputFormat.newOutputFormat(out_format)\n",
        "        output = ''\n",
        "        for sentence in sentences:\n",
        "            output += output_format.writeSentence(sentence)\n",
        "        output += output_format.finishDocument()\n",
        "\n",
        "        return output"
      ],
      "execution_count": 0,
      "outputs": []
    },
    {
      "cell_type": "markdown",
      "metadata": {
        "id": "VcpJWbEFuit5",
        "colab_type": "text"
      },
      "source": [
        "Пришло время разметить текст:"
      ]
    },
    {
      "cell_type": "code",
      "metadata": {
        "id": "twN9Z5GRuhTa",
        "colab_type": "code",
        "colab": {}
      },
      "source": [
        "with open(\"testset2.txt\", \"r\", encoding=\"utf-8\") as intext:\n",
        "  text = intext.read()"
      ],
      "execution_count": 0,
      "outputs": []
    },
    {
      "cell_type": "code",
      "metadata": {
        "id": "7yurJfTtun6b",
        "colab_type": "code",
        "outputId": "719db8a9-e7f7-42ee-ff64-8c6a10148aaf",
        "colab": {
          "base_uri": "https://localhost:8080/",
          "height": 51
        }
      },
      "source": [
        "%%time\n",
        "\n",
        "model = UDPipeModel('russian-syntagrus-ud-2.4-190531.udpipe')\n",
        "sentences = model.tokenize(text)\n",
        "for s in sentences:\n",
        "    model.tag(s)\n",
        "    model.parse(s)\n",
        "conllu = model.write(sentences, \"conllu\")"
      ],
      "execution_count": 6,
      "outputs": [
        {
          "output_type": "stream",
          "text": [
            "CPU times: user 3min 9s, sys: 531 ms, total: 3min 9s\n",
            "Wall time: 3min 9s\n"
          ],
          "name": "stdout"
        }
      ]
    },
    {
      "cell_type": "markdown",
      "metadata": {
        "id": "0RO048uLu_A7",
        "colab_type": "text"
      },
      "source": [
        "Как выглядит наш `conllu`?\n",
        "\n"
      ]
    },
    {
      "cell_type": "code",
      "metadata": {
        "id": "u51Mlp2yvNK7",
        "colab_type": "code",
        "outputId": "2e2c4398-08e9-47d2-d836-193b3c99d82d",
        "colab": {
          "base_uri": "https://localhost:8080/",
          "height": 343
        }
      },
      "source": [
        "print(conllu[:1000])"
      ],
      "execution_count": 7,
      "outputs": [
        {
          "output_type": "stream",
          "text": [
            "# newdoc\n",
            "# newpar\n",
            "# sent_id = 1\n",
            "# text = \"Я предложил бы \"Единой России\" объединить в одном окне не только депутатов, но и суд, и прокуратуру, и милицию, и собес,— заявил \"Ъ\" член политсовета СПС Борис Надеждин.—\n",
            "1\t\"\t\"\tPUNCT\t_\t_\t3\tpunct\t_\tSpacesBefore=\\n\\t|SpaceAfter=No\n",
            "2\tЯ\tя\tPRON\t_\tCase=Nom|Number=Sing|Person=1\t3\tnsubj\t_\t_\n",
            "3\tпредложил\tпредложить\tVERB\t_\tAspect=Perf|Gender=Masc|Mood=Ind|Number=Sing|Tense=Past|VerbForm=Fin|Voice=Act\t0\troot\t_\t_\n",
            "4\tбы\tбы\tAUX\t_\t_\t3\taux\t_\t_\n",
            "5\t\"\t\"\tPUNCT\t_\t_\t3\tpunct\t_\tSpaceAfter=No\n",
            "6\tЕдиной\tединый\tADJ\t_\tCase=Gen|Degree=Pos|Gender=Fem|Number=Sing\t7\tamod\t_\t_\n",
            "7\tРоссии\tРоссия\tPROPN\t_\tAnimacy=Inan|Case=Gen|Gender=Fem|Number=Sing\t9\tobl\t_\tSpaceAfter=No\n",
            "8\t\"\t\"\tPUNCT\t_\t_\t9\tpunct\t_\t_\n",
            "9\tобъединить\tобъединить\tVERB\t_\tAspect=Perf|VerbForm=Inf|Voice=Act\t3\txcomp\t_\t_\n",
            "10\tв\tв\tADP\t_\t_\t12\tcase\t_\t_\n",
            "11\tодном\tодин\tNUM\t_\tCase=Loc|Gender=Neut\t12\tnummod\t_\t_\n",
            "12\tокне\tокно\tNOUN\t_\tAnimacy=Inan|Case=Loc|Gender=Neut|Number=Sing\t9\tobl\t_\t_\n",
            "13\tне\tне\tPART\t_\t_\t14\tadvmod\t_\t_\n",
            "14\tтолько\tтолько\tPART\t_\t_\n"
          ],
          "name": "stdout"
        }
      ]
    },
    {
      "cell_type": "markdown",
      "metadata": {
        "id": "3tl39h45unKE",
        "colab_type": "text"
      },
      "source": [
        "Посчитаем частотность слов"
      ]
    },
    {
      "cell_type": "code",
      "metadata": {
        "id": "tGUY4Y11vYeJ",
        "colab_type": "code",
        "colab": {}
      },
      "source": [
        "from collections import Counter\n",
        "\n",
        "def getWordFrequency(conllu_obj):  # imperfect function but okay for this task\n",
        "  suitstrs = [s for s in conllu_obj.split(\"\\n\") if s]\n",
        "  suitstrs = [s for s in suitstrs if s[0] in \"0123456789\"]\n",
        "  words = [(s.split(\"\\t\")[2], s.split(\"\\t\")[3]) for s in suitstrs]\n",
        "  return Counter(words)"
      ],
      "execution_count": 0,
      "outputs": []
    },
    {
      "cell_type": "code",
      "metadata": {
        "id": "_vc08eiMwXrO",
        "colab_type": "code",
        "outputId": "8a361a64-c080-43fc-c11e-58be64dbab52",
        "colab": {
          "base_uri": "https://localhost:8080/",
          "height": 51
        }
      },
      "source": [
        "%%time\n",
        "\n",
        "word_count = getWordFrequency(conllu)"
      ],
      "execution_count": 9,
      "outputs": [
        {
          "output_type": "stream",
          "text": [
            "CPU times: user 331 ms, sys: 52 ms, total: 383 ms\n",
            "Wall time: 384 ms\n"
          ],
          "name": "stdout"
        }
      ]
    },
    {
      "cell_type": "markdown",
      "metadata": {
        "id": "IncMC3QBwopZ",
        "colab_type": "text"
      },
      "source": [
        "Определим все глаголы, встречающиеся чаще, чем 50 раз:"
      ]
    },
    {
      "cell_type": "code",
      "metadata": {
        "id": "G8Zn62fmwsKx",
        "colab_type": "code",
        "outputId": "ac109eff-fd84-406d-cb93-276cec6298c4",
        "colab": {
          "base_uri": "https://localhost:8080/",
          "height": 51
        }
      },
      "source": [
        "%%time\n",
        "\n",
        "suitable_verbs = []\n",
        "iter_words = iter(word_count.most_common(len(word_count)))\n",
        "el = next(iter_words)\n",
        "\n",
        "while el[1] >= 50:\n",
        "  if el[0][1] == \"VERB\":\n",
        "    suitable_verbs.append(el[0])\n",
        "  el = next(iter_words)\n",
        "\n",
        "suitable_verbs = set([el[0] for el in suitable_verbs])"
      ],
      "execution_count": 10,
      "outputs": [
        {
          "output_type": "stream",
          "text": [
            "CPU times: user 5.68 ms, sys: 0 ns, total: 5.68 ms\n",
            "Wall time: 5.53 ms\n"
          ],
          "name": "stdout"
        }
      ]
    },
    {
      "cell_type": "markdown",
      "metadata": {
        "id": "Wk7-6X_eyCdB",
        "colab_type": "text"
      },
      "source": [
        "Наконец, выберем все подходящие пары слов:"
      ]
    },
    {
      "cell_type": "code",
      "metadata": {
        "id": "ayTQiapwx2ee",
        "colab_type": "code",
        "colab": {}
      },
      "source": [
        "def getWordPairs(conllu_obj, suitable_verbs):\n",
        "  spl = conllu_obj.split(\"\\n\")\n",
        "  strpairs = [(spl[i], spl[i+1]) for i, _ in enumerate(spl[:-1]) if spl[i] and spl[i+1]]\n",
        "  strpairs = [tpl for tpl in strpairs if tpl[0][0] in \"0123456789\" and tpl[1][0] in \"0123456789\"]\n",
        "  wordpairs = [(tpl[0].split(\"\\t\")[2], tpl[1].split(\"\\t\")[2]) for tpl in strpairs\n",
        "               if tpl[0].split(\"\\t\")[3] == \"VERB\" and tpl[0].split(\"\\t\")[2] in suitable_verbs\n",
        "               and tpl[1].split(\"\\t\")[3] == \"NOUN\"]\n",
        "  return wordpairs"
      ],
      "execution_count": 0,
      "outputs": []
    },
    {
      "cell_type": "code",
      "metadata": {
        "id": "BGze3ZPAzZpa",
        "colab_type": "code",
        "outputId": "ca100802-2675-42a9-8283-b37b6e844421",
        "colab": {
          "base_uri": "https://localhost:8080/",
          "height": 51
        }
      },
      "source": [
        "%%time\n",
        "\n",
        "bigrams = getWordPairs(conllu, suitable_verbs)"
      ],
      "execution_count": 12,
      "outputs": [
        {
          "output_type": "stream",
          "text": [
            "CPU times: user 251 ms, sys: 2.99 ms, total: 254 ms\n",
            "Wall time: 257 ms\n"
          ],
          "name": "stdout"
        }
      ]
    },
    {
      "cell_type": "markdown",
      "metadata": {
        "id": "XW9ykZ5czpn6",
        "colab_type": "text"
      },
      "source": [
        "Вот, что у нас получилось:"
      ]
    },
    {
      "cell_type": "code",
      "metadata": {
        "id": "F_3lbisOzsv5",
        "colab_type": "code",
        "outputId": "faf1702d-713d-458e-c95f-8ea54b702a06",
        "colab": {
          "base_uri": "https://localhost:8080/",
          "height": 187
        }
      },
      "source": [
        "bigrams[:10]"
      ],
      "execution_count": 13,
      "outputs": [
        {
          "output_type": "execute_result",
          "data": {
            "text/plain": [
              "[('рассматривать', 'дело'),\n",
              " ('рассмотреть', 'вопрос'),\n",
              " ('начаться', 'слушание'),\n",
              " ('получить', 'срок'),\n",
              " ('обвинить', 'олигарх'),\n",
              " ('передать', 'судья'),\n",
              " ('просить', 'суд'),\n",
              " ('рассматривать', 'ходатайство'),\n",
              " ('обжаловать', 'постановление'),\n",
              " ('сообщить', 'источник')]"
            ]
          },
          "metadata": {
            "tags": []
          },
          "execution_count": 13
        }
      ]
    },
    {
      "cell_type": "markdown",
      "metadata": {
        "id": "suGBWsnIr2B6",
        "colab_type": "text"
      },
      "source": [
        "## Пункт 2"
      ]
    },
    {
      "cell_type": "markdown",
      "metadata": {
        "id": "jKAOeiEJr6BT",
        "colab_type": "text"
      },
      "source": [
        "*Оцените полученные словосочетания следующими метриками: log-likelihood, dice, PMI (можно использовать `nltk.collocations`).*"
      ]
    },
    {
      "cell_type": "code",
      "metadata": {
        "id": "rfsiVY4dcmDl",
        "colab_type": "code",
        "colab": {}
      },
      "source": [
        "from nltk.collocations import BigramAssocMeasures\n",
        "from nltk.collocations import *\n",
        "\n",
        "bigram_measures = BigramAssocMeasures()"
      ],
      "execution_count": 0,
      "outputs": []
    },
    {
      "cell_type": "markdown",
      "metadata": {
        "id": "KDrzuZssdlSe",
        "colab_type": "text"
      },
      "source": [
        "Получим объект со всеми биграммами:"
      ]
    },
    {
      "cell_type": "code",
      "metadata": {
        "id": "ubwqDHeNMbkQ",
        "colab_type": "code",
        "colab": {}
      },
      "source": [
        "def getBigrams(conllu_obj):\n",
        "  suitstrs = [s for s in conllu_obj.split(\"\\n\") if s]\n",
        "  suitstrs = [s for s in suitstrs if s[0] in \"0123456789\"]\n",
        "  words = [s.split(\"\\t\")[2] for s in suitstrs]\n",
        "  text = words\n",
        "  return BigramCollocationFinder.from_words(text)"
      ],
      "execution_count": 0,
      "outputs": []
    },
    {
      "cell_type": "code",
      "metadata": {
        "id": "Hy8iIiGWL0jq",
        "colab_type": "code",
        "outputId": "6995d588-3088-4d0e-ebb1-852bdac43e74",
        "colab": {
          "base_uri": "https://localhost:8080/",
          "height": 51
        }
      },
      "source": [
        "%%time\n",
        "\n",
        "bcf = getBigrams(conllu)"
      ],
      "execution_count": 19,
      "outputs": [
        {
          "output_type": "stream",
          "text": [
            "CPU times: user 599 ms, sys: 23 ms, total: 622 ms\n",
            "Wall time: 626 ms\n"
          ],
          "name": "stdout"
        }
      ]
    },
    {
      "cell_type": "markdown",
      "metadata": {
        "id": "qLrZmwzxd2lH",
        "colab_type": "text"
      },
      "source": [
        "Теперь оценим биграммы:"
      ]
    },
    {
      "cell_type": "code",
      "metadata": {
        "id": "2wzcSMFEd7Np",
        "colab_type": "code",
        "colab": {}
      },
      "source": [
        "def getBigramScoreList(bcf, relevant_bigrams, score_func):\n",
        "  scores = bcf.score_ngrams(score_func)\n",
        "  return_list = [el for el in scores if el[0] in relevant_bigrams]\n",
        "  return return_list"
      ],
      "execution_count": 0,
      "outputs": []
    },
    {
      "cell_type": "code",
      "metadata": {
        "id": "A8wRAOCLcgtk",
        "colab_type": "code",
        "outputId": "e0121bff-7083-4ade-8634-d7830b37be65",
        "colab": {
          "base_uri": "https://localhost:8080/",
          "height": 51
        }
      },
      "source": [
        "%%time\n",
        "\n",
        "log_score = getBigramScoreList(bcf, bigrams, bigram_measures.likelihood_ratio)\n",
        "pmi_score = getBigramScoreList(bcf, bigrams, bigram_measures.pmi)\n",
        "dice_score = getBigramScoreList(bcf, bigrams, bigram_measures.dice)"
      ],
      "execution_count": 21,
      "outputs": [
        {
          "output_type": "stream",
          "text": [
            "CPU times: user 11.1 s, sys: 2 ms, total: 11.1 s\n",
            "Wall time: 11.1 s\n"
          ],
          "name": "stdout"
        }
      ]
    },
    {
      "cell_type": "markdown",
      "metadata": {
        "id": "0et1Mv0Aes8W",
        "colab_type": "text"
      },
      "source": [
        "Что получилось?"
      ]
    },
    {
      "cell_type": "code",
      "metadata": {
        "id": "VvqWoupGgyTP",
        "colab_type": "code",
        "outputId": "1ec2b981-8c20-4915-9d34-40a93d1012f3",
        "colab": {
          "base_uri": "https://localhost:8080/",
          "height": 102
        }
      },
      "source": [
        "log_score[:5]"
      ],
      "execution_count": 22,
      "outputs": [
        {
          "output_type": "execute_result",
          "data": {
            "text/plain": [
              "[(('подать', 'иск'), 413.1231548904059),\n",
              " (('удовлетворить', 'иск'), 387.0876918221254),\n",
              " (('принять', 'решение'), 314.31659837989565),\n",
              " (('удовлетворить', 'ходатайство'), 237.79159038781216),\n",
              " (('вынести', 'решение'), 219.65351169722325)]"
            ]
          },
          "metadata": {
            "tags": []
          },
          "execution_count": 22
        }
      ]
    },
    {
      "cell_type": "code",
      "metadata": {
        "id": "iE7ORcaYeuwt",
        "colab_type": "code",
        "outputId": "1700afc5-ec3d-473e-8a4d-27fd097166b2",
        "colab": {
          "base_uri": "https://localhost:8080/",
          "height": 102
        }
      },
      "source": [
        "dice_score[:5]"
      ],
      "execution_count": 23,
      "outputs": [
        {
          "output_type": "execute_result",
          "data": {
            "text/plain": [
              "[(('удовлетворить', 'ходатайство'), 0.17142857142857143),\n",
              " (('пройти', 'прения'), 0.17073170731707318),\n",
              " (('начаться', 'слушание'), 0.14666666666666667),\n",
              " (('подать', 'иск'), 0.14628297362110312),\n",
              " (('удовлетворить', 'иск'), 0.14188267394270124)]"
            ]
          },
          "metadata": {
            "tags": []
          },
          "execution_count": 23
        }
      ]
    },
    {
      "cell_type": "code",
      "metadata": {
        "id": "JRkMJVirg1Dl",
        "colab_type": "code",
        "outputId": "77100656-de03-44ec-eb55-f34e867e8b65",
        "colab": {
          "base_uri": "https://localhost:8080/",
          "height": 102
        }
      },
      "source": [
        "pmi_score[:5]"
      ],
      "execution_count": 24,
      "outputs": [
        {
          "output_type": "execute_result",
          "data": {
            "text/plain": [
              "[(('оспаривать', 'выражение'), 11.599301605501264),\n",
              " (('принадлежать', 'экс-премьера'), 11.599301605501264),\n",
              " (('принадлежать', 'эксглава'), 11.599301605501264),\n",
              " (('рассказать', 'обозреватель'), 11.599301605501264),\n",
              " (('запретить', 'организацией|вчер'), 11.546834185607128)]"
            ]
          },
          "metadata": {
            "tags": []
          },
          "execution_count": 24
        }
      ]
    },
    {
      "cell_type": "markdown",
      "metadata": {
        "id": "fsK_rp3rr7AE",
        "colab_type": "text"
      },
      "source": [
        "## Пункт 3"
      ]
    },
    {
      "cell_type": "markdown",
      "metadata": {
        "id": "B3Nmho3vrduO",
        "colab_type": "text"
      },
      "source": [
        "Подготовьте \"золотой стандарт\" коллокаций (далее ЗС) для этого корпуса: возьмите словосочетания, которые попадают в топ-100 по всем метрикам, пересеките со словарем глагольной сочетаемости."
      ]
    },
    {
      "cell_type": "markdown",
      "metadata": {
        "id": "cwdL-n2he2pM",
        "colab_type": "text"
      },
      "source": [
        "#### Загрузим и предобработаем словарь:"
      ]
    },
    {
      "cell_type": "code",
      "metadata": {
        "id": "dnbFnMqerXTe",
        "colab_type": "code",
        "outputId": "021c8d2c-12fe-4c6f-8671-1df2c1891bab",
        "colab": {
          "base_uri": "https://localhost:8080/",
          "height": 0
        }
      },
      "source": [
        "!wget https://raw.githubusercontent.com/isikus/uni-nlp-homeworks/master/hw2/verb_coll.txt"
      ],
      "execution_count": 25,
      "outputs": [
        {
          "output_type": "stream",
          "text": [
            "--2019-12-17 04:00:07--  https://raw.githubusercontent.com/isikus/uni-nlp-homeworks/master/hw2/verb_coll.txt\n",
            "Resolving raw.githubusercontent.com (raw.githubusercontent.com)... 151.101.0.133, 151.101.64.133, 151.101.128.133, ...\n",
            "Connecting to raw.githubusercontent.com (raw.githubusercontent.com)|151.101.0.133|:443... connected.\n",
            "HTTP request sent, awaiting response... 200 OK\n",
            "Length: 1083870 (1.0M) [text/plain]\n",
            "Saving to: ‘verb_coll.txt.1’\n",
            "\n",
            "\rverb_coll.txt.1       0%[                    ]       0  --.-KB/s               \rverb_coll.txt.1     100%[===================>]   1.03M  --.-KB/s    in 0.07s   \n",
            "\n",
            "2019-12-17 04:00:07 (14.0 MB/s) - ‘verb_coll.txt.1’ saved [1083870/1083870]\n",
            "\n"
          ],
          "name": "stdout"
        }
      ]
    },
    {
      "cell_type": "markdown",
      "metadata": {
        "id": "M1TyUUlfnyL3",
        "colab_type": "text"
      },
      "source": [
        "Теперь лемматизируем коллокации в словаре так же, как и в исходном тексте, и положим их в `set`:"
      ]
    },
    {
      "cell_type": "code",
      "metadata": {
        "id": "AkC8eJwVi31S",
        "colab_type": "code",
        "colab": {}
      },
      "source": [
        "with open(\"verb_coll.txt\", \"r\", encoding=\"utf-8\") as intext:\n",
        "  text2 = intext.read()\n",
        "\n",
        "lines = [line for line in text2.split(\"\\n\") if line]\n",
        "lines = [line.split(\"\\t\")[-1].capitalize()+\".\" for line in lines]\n",
        "text2 = \"\\n\".join(lines)"
      ],
      "execution_count": 0,
      "outputs": []
    },
    {
      "cell_type": "code",
      "metadata": {
        "id": "Ny86mN43kKeA",
        "colab_type": "code",
        "outputId": "6c8dda7f-194e-44e5-86c4-a596794778ec",
        "colab": {
          "base_uri": "https://localhost:8080/",
          "height": 0
        }
      },
      "source": [
        "%%time\n",
        "\n",
        "sentences2 = model.tokenize(text2)\n",
        "for s in sentences2:\n",
        "    model.tag(s)\n",
        "    model.parse(s)\n",
        "conllu2 = model.write(sentences2, \"conllu\")"
      ],
      "execution_count": 27,
      "outputs": [
        {
          "output_type": "stream",
          "text": [
            "CPU times: user 20.3 s, sys: 29 ms, total: 20.3 s\n",
            "Wall time: 20.3 s\n"
          ],
          "name": "stdout"
        }
      ]
    },
    {
      "cell_type": "code",
      "metadata": {
        "id": "KD2DooJMkRX2",
        "colab_type": "code",
        "outputId": "5bd9bc36-4030-4e73-a4ac-b9be7c938375",
        "colab": {
          "base_uri": "https://localhost:8080/",
          "height": 0
        }
      },
      "source": [
        "print(conllu2[:1000])"
      ],
      "execution_count": 28,
      "outputs": [
        {
          "output_type": "stream",
          "text": [
            "# newdoc\n",
            "# newpar\n",
            "# sent_id = 1\n",
            "# text = Аборт делать.\n",
            "1\tАборт\tАборт\tNOUN\t_\tAnimacy=Inan|Case=Acc|Gender=Masc|Number=Sing\t2\tobj\t_\t_\n",
            "2\tделать\tделать\tVERB\t_\tAspect=Imp|VerbForm=Inf|Voice=Act\t0\troot\t_\tSpaceAfter=No\n",
            "3\t.\t.\tPUNCT\t_\t_\t2\tpunct\t_\tSpacesAfter=\\n\n",
            "\n",
            "# sent_id = 2\n",
            "# text = Делать аборт.\n",
            "1\tДелать\tделать\tVERB\t_\tAspect=Imp|VerbForm=Inf|Voice=Act\t0\troot\t_\t_\n",
            "2\tаборт\tаборт\tNOUN\t_\tAnimacy=Inan|Case=Acc|Gender=Masc|Number=Sing\t1\tobj\t_\tSpaceAfter=No\n",
            "3\t.\t.\tPUNCT\t_\t_\t1\tpunct\t_\tSpacesAfter=\\n\n",
            "\n",
            "# sent_id = 3\n",
            "# text = Сделать аборт.\n",
            "1\tСделать\tделать\tVERB\t_\tAspect=Perf|VerbForm=Inf|Voice=Act\t0\troot\t_\t_\n",
            "2\tаборт\tаборт\tNOUN\t_\tAnimacy=Inan|Case=Acc|Gender=Masc|Number=Sing\t1\tobj\t_\tSpaceAfter=No\n",
            "3\t.\t.\tPUNCT\t_\t_\t1\tpunct\t_\tSpacesAfter=\\n\n",
            "\n",
            "# sent_id = 4\n",
            "# text = Авария произошла.\n",
            "1\tАвария\tавария\tNOUN\t_\tAnimacy=Inan|Case=Nom|Gender=Fem|Number=Sing\t2\tnsubj\t_\t_\n",
            "2\tпроизошла\tпроизойти\tVERB\t_\tAspect=Perf|Gender=Fem|Mood=Ind|Number=Sing|Tense=Past|VerbForm=Fin|Voice=Act\t0\troot\t_\tSpaceAfter=No\n",
            "3\t.\t.\tPUNCT\t_\t_\t2\tpu\n"
          ],
          "name": "stdout"
        }
      ]
    },
    {
      "cell_type": "code",
      "metadata": {
        "id": "fj1N2kXgmste",
        "colab_type": "code",
        "colab": {}
      },
      "source": [
        "import re"
      ],
      "execution_count": 0,
      "outputs": []
    },
    {
      "cell_type": "code",
      "metadata": {
        "id": "kcPkcV1UlGRl",
        "colab_type": "code",
        "outputId": "eb6c6cff-bbe3-4d56-c1e3-30f5a2e56257",
        "colab": {
          "base_uri": "https://localhost:8080/",
          "height": 0
        }
      },
      "source": [
        "%%time\n",
        "\n",
        "dict_pairs = []\n",
        "relevant_pieces = re.findall(r\"\\n1.*?\\n\\n\", conllu2, flags=re.DOTALL)\n",
        "\n",
        "for piece in relevant_pieces:\n",
        "  piece_lines = [line for line in piece.split(\"\\n\") if line]\n",
        "  piece_lines = [line for line in piece_lines if line[0] in \"0123456789\"][:-1]\n",
        "  if len(piece_lines) == 2:\n",
        "    lemm1 = piece_lines[0].split(\"\\t\")[2].lower()\n",
        "    pos1 = piece_lines[0].split(\"\\t\")[3]\n",
        "    lemm2 = piece_lines[1].split(\"\\t\")[2].lower()\n",
        "    pos2 = piece_lines[1].split(\"\\t\")[3]\n",
        "    if (pos1, pos2) == (\"VERB\", \"NOUN\"):\n",
        "      dict_pairs.append((lemm1, lemm2))\n",
        "    elif (pos2, pos1) == (\"NOUN\", \"VERB\"):\n",
        "      dict_pairs.append((lemm2, lemm1))\n",
        "\n",
        "dict_pairs = set(dict_pairs)"
      ],
      "execution_count": 30,
      "outputs": [
        {
          "output_type": "stream",
          "text": [
            "CPU times: user 81.6 ms, sys: 997 µs, total: 82.6 ms\n",
            "Wall time: 82.9 ms\n"
          ],
          "name": "stdout"
        }
      ]
    },
    {
      "cell_type": "markdown",
      "metadata": {
        "id": "csMoOaIdnCMn",
        "colab_type": "text"
      },
      "source": [
        "Отлично - теперь у нас есть список устойчивых коллокаций из словаря, лемматизированных так же, как и исходный текст:"
      ]
    },
    {
      "cell_type": "code",
      "metadata": {
        "id": "dbDnkopHleqN",
        "colab_type": "code",
        "outputId": "35db171b-5f32-4a25-ac76-6ee20ff70223",
        "colab": {
          "base_uri": "https://localhost:8080/",
          "height": 0
        }
      },
      "source": [
        "list(dict_pairs)[:10]"
      ],
      "execution_count": 31,
      "outputs": [
        {
          "output_type": "execute_result",
          "data": {
            "text/plain": [
              "[('освоить', 'выпуск'),\n",
              " ('обеспечить', 'развитие'),\n",
              " ('учиться', 'грамота'),\n",
              " ('поднять', 'восстание'),\n",
              " ('определить', 'влияние'),\n",
              " ('увлечься', 'работа'),\n",
              " ('слышаться', 'смех'),\n",
              " ('продлить', 'срок'),\n",
              " ('разработать', 'программа'),\n",
              " ('вызывать', 'восторг')]"
            ]
          },
          "metadata": {
            "tags": []
          },
          "execution_count": 31
        }
      ]
    },
    {
      "cell_type": "markdown",
      "metadata": {
        "id": "1WECs07FfABc",
        "colab_type": "text"
      },
      "source": [
        "#### Продолжим работу над пунктом:"
      ]
    },
    {
      "cell_type": "markdown",
      "metadata": {
        "id": "sAQa6gtcfA3j",
        "colab_type": "text"
      },
      "source": [
        "Давайте определим, какие биграммы у нас попали во все топ-100 листов:"
      ]
    },
    {
      "cell_type": "code",
      "metadata": {
        "id": "3ZUa2N2he8tW",
        "colab_type": "code",
        "outputId": "f6d396c4-ba8b-4c05-dda2-b6cd34346c7b",
        "colab": {
          "base_uri": "https://localhost:8080/",
          "height": 51
        }
      },
      "source": [
        "%%time\n",
        "\n",
        "top_log = set([el[0] for el in log_score[:100]])\n",
        "top_pmi = set([el[0] for el in pmi_score[:100]])\n",
        "top_dice = set([el[0] for el in dice_score[:100]])\n",
        "\n",
        "golden_top = top_log & top_pmi & top_dice"
      ],
      "execution_count": 32,
      "outputs": [
        {
          "output_type": "stream",
          "text": [
            "CPU times: user 715 µs, sys: 0 ns, total: 715 µs\n",
            "Wall time: 723 µs\n"
          ],
          "name": "stdout"
        }
      ]
    },
    {
      "cell_type": "markdown",
      "metadata": {
        "id": "dYaPAKSBfnmO",
        "colab_type": "text"
      },
      "source": [
        "Сколько у нас слов в топе?"
      ]
    },
    {
      "cell_type": "code",
      "metadata": {
        "id": "u1OuGsTVfnP8",
        "colab_type": "code",
        "outputId": "ef40da94-f01e-4fc4-fa81-fd1aad873e00",
        "colab": {
          "base_uri": "https://localhost:8080/",
          "height": 34
        }
      },
      "source": [
        "len(golden_top)"
      ],
      "execution_count": 33,
      "outputs": [
        {
          "output_type": "execute_result",
          "data": {
            "text/plain": [
              "17"
            ]
          },
          "metadata": {
            "tags": []
          },
          "execution_count": 33
        }
      ]
    },
    {
      "cell_type": "markdown",
      "metadata": {
        "id": "4a0L1p1EhJT-",
        "colab_type": "text"
      },
      "source": [
        "Маловато. Тогда давайте нормализуем полученные скоры и определим суммарный топ-100 по трём метрикам:"
      ]
    },
    {
      "cell_type": "code",
      "metadata": {
        "id": "sDxbBwUWhJBD",
        "colab_type": "code",
        "outputId": "fc3b713b-008d-4459-bcec-76c332e8fb0b",
        "colab": {
          "base_uri": "https://localhost:8080/",
          "height": 51
        }
      },
      "source": [
        "%%time\n",
        "\n",
        "top_log_norm = {el[0]: el[1]/log_score[0][1] for el in log_score[:100]}\n",
        "top_pmi_norm = {el[0]: el[1]/pmi_score[0][1] for el in pmi_score[:100]}\n",
        "top_dice_norm = {el[0]: el[1]/dice_score[0][1] for el in dice_score[:100]}\n",
        "\n",
        "top_bigrams = set(top_log_norm.keys())\n",
        "top_bigrams.update(set(top_pmi_norm.keys()))\n",
        "top_bigrams.update(set(top_dice_norm.keys()))\n",
        "\n",
        "golden_top_dict = {}\n",
        "\n",
        "for bigram in top_bigrams:\n",
        "  golden_top_dict[bigram] = 0\n",
        "  if bigram in top_log_norm:\n",
        "    golden_top_dict[bigram] += top_log_norm[bigram]\n",
        "  if bigram in top_pmi_norm:\n",
        "    golden_top_dict[bigram] += top_pmi_norm[bigram]\n",
        "  if bigram in top_dice_norm:\n",
        "    golden_top_dict[bigram] += top_dice_norm[bigram]\n",
        "\n",
        "golden_top = sorted(golden_top_dict.items(), key=lambda x: x[1], reverse=True)[:100]"
      ],
      "execution_count": 34,
      "outputs": [
        {
          "output_type": "stream",
          "text": [
            "CPU times: user 1.1 ms, sys: 0 ns, total: 1.1 ms\n",
            "Wall time: 1.15 ms\n"
          ],
          "name": "stdout"
        }
      ]
    },
    {
      "cell_type": "markdown",
      "metadata": {
        "id": "ZM4BFLdFinqx",
        "colab_type": "text"
      },
      "source": [
        "Что получилось теперь?"
      ]
    },
    {
      "cell_type": "code",
      "metadata": {
        "id": "rjMu3w8Dim8y",
        "colab_type": "code",
        "outputId": "bdf915af-9b99-4308-fb92-1db22616e292",
        "colab": {
          "base_uri": "https://localhost:8080/",
          "height": 187
        }
      },
      "source": [
        "golden_top[:10]"
      ],
      "execution_count": 35,
      "outputs": [
        {
          "output_type": "execute_result",
          "data": {
            "text/plain": [
              "[(('пройти', 'прения'), 2.0126849228249295),\n",
              " (('подать', 'иск'), 1.8533173461231014),\n",
              " (('удовлетворить', 'иск'), 1.7646278618036844),\n",
              " (('подтвердить', 'законность'), 1.6836003108215012),\n",
              " (('удовлетворить', 'ходатайство'), 1.575594922659065),\n",
              " (('оспорить', 'предписание'), 1.568093467659748),\n",
              " (('дать', 'киллер'), 1.507342806760306),\n",
              " (('провести', 'обыск'), 1.4770851119565789),\n",
              " (('выплатить', 'иркутянин'), 1.424066962634174),\n",
              " (('выплатить', 'штрафа'), 1.424066962634174)]"
            ]
          },
          "metadata": {
            "tags": []
          },
          "execution_count": 35
        }
      ]
    },
    {
      "cell_type": "markdown",
      "metadata": {
        "id": "YCsNJtCGizKl",
        "colab_type": "text"
      },
      "source": [
        "Отлично, это можно пересечь со словарём сочетаемости!"
      ]
    },
    {
      "cell_type": "code",
      "metadata": {
        "id": "NuDKshPhnN-r",
        "colab_type": "code",
        "colab": {}
      },
      "source": [
        "golden_top_intersect = []\n",
        "\n",
        "for el in golden_top:\n",
        "  if el[0] in dict_pairs:\n",
        "    golden_top_intersect.append(el)"
      ],
      "execution_count": 0,
      "outputs": []
    },
    {
      "cell_type": "markdown",
      "metadata": {
        "id": "Be5lRVTioNn-",
        "colab_type": "text"
      },
      "source": [
        "Сколько получилось элементов, и какие же они?"
      ]
    },
    {
      "cell_type": "code",
      "metadata": {
        "id": "s6nk_0cFoSwh",
        "colab_type": "code",
        "outputId": "62fc1429-1bca-45a4-f2a7-71c6e2af9ffd",
        "colab": {
          "base_uri": "https://localhost:8080/",
          "height": 323
        }
      },
      "source": [
        "print(len(golden_top_intersect))\n",
        "golden_top_intersect"
      ],
      "execution_count": 37,
      "outputs": [
        {
          "output_type": "stream",
          "text": [
            "17\n"
          ],
          "name": "stdout"
        },
        {
          "output_type": "execute_result",
          "data": {
            "text/plain": [
              "[(('подать', 'иск'), 1.8533173461231014),\n",
              " (('удовлетворить', 'иск'), 1.7646278618036844),\n",
              " (('провести', 'обыск'), 1.4770851119565789),\n",
              " (('дать', 'согласие'), 1.3392317276793677),\n",
              " (('принять', 'решение'), 1.2891321492919685),\n",
              " (('объявить', 'перерыв'), 1.136891001856666),\n",
              " (('вынести', 'приговор'), 0.9721202463246261),\n",
              " (('делать', 'акцент'), 0.9558681155175195),\n",
              " (('вынести', 'решение'), 0.9389228532044955),\n",
              " (('предъявить', 'обвинение'), 0.9259952139276855),\n",
              " (('дать', 'добро'), 0.8815104942068533),\n",
              " (('дать', 'пощечин'), 0.8815104942068533),\n",
              " (('принять', 'резолюция'), 0.8786214646991715),\n",
              " (('обжаловать', 'решение'), 0.8758550830228828),\n",
              " (('принять', 'ислам'), 0.8704663098150166),\n",
              " (('рассмотреть', 'жалоба'), 0.831168968798167),\n",
              " (('отменить', 'постановление'), 0.7615319443352115)]"
            ]
          },
          "metadata": {
            "tags": []
          },
          "execution_count": 37
        }
      ]
    },
    {
      "cell_type": "markdown",
      "metadata": {
        "id": "o5c5scElsCwh",
        "colab_type": "text"
      },
      "source": [
        "## Пункт 4"
      ]
    },
    {
      "cell_type": "markdown",
      "metadata": {
        "id": "T1rXslNhsEu2",
        "colab_type": "text"
      },
      "source": [
        "*Добавьте в ЗС словосочетания из топ-100 , которые не вошли в словарь, но являются коллокациями (если такие есть), объясните свой выбор.*"
      ]
    },
    {
      "cell_type": "markdown",
      "metadata": {
        "id": "AZOG8NiOoqPD",
        "colab_type": "text"
      },
      "source": [
        "Давайте посмотрим на 83 невошедших коллокации:"
      ]
    },
    {
      "cell_type": "code",
      "metadata": {
        "id": "9n7ioOUkowPp",
        "colab_type": "code",
        "outputId": "d90e46bf-80af-4bae-efe9-5922d86e8483",
        "colab": {
          "base_uri": "https://localhost:8080/",
          "height": 1000
        }
      },
      "source": [
        "out_of_intersect = [el[0] for el in golden_top if el not in golden_top_intersect]\n",
        "\n",
        "for i, el in enumerate(out_of_intersect):\n",
        "  print(str(i)+\".\", \" \".join(el), sep=\"\\t\")"
      ],
      "execution_count": 42,
      "outputs": [
        {
          "output_type": "stream",
          "text": [
            "0.\tпройти прения\n",
            "1.\tподтвердить законность\n",
            "2.\tудовлетворить ходатайство\n",
            "3.\tоспорить предписание\n",
            "4.\tдать киллер\n",
            "5.\tвыплатить иркутянин\n",
            "6.\tвыплатить штрафа\n",
            "7.\tрассказать собеседник\n",
            "8.\tиметь право\n",
            "9.\tобязать горсовет\n",
            "10.\tпояснить собеседник\n",
            "11.\tрассказать обозреватель\n",
            "12.\tоспаривать выражение\n",
            "13.\tпринадлежать эксглава\n",
            "14.\tпринадлежать экс-премьера\n",
            "15.\tобязать экс-премьер\n",
            "16.\tзапретить организацией|вчер\n",
            "17.\tзапретить телекритика\n",
            "18.\tоспорить правомерность\n",
            "19.\tдать генпрокуратура\n",
            "20.\tпройти серия\n",
            "21.\tпринадлежать экссенатор\n",
            "22.\tподтвердить правомочность\n",
            "23.\tначаться слушание\n",
            "24.\tиспользовать название\n",
            "25.\tвыплатить хоккеист\n",
            "26.\tрассказать миноритарий\n",
            "27.\tрассматривать прошение\n",
            "28.\tподтвердить правомерность\n",
            "29.\tдоказать правность\n",
            "30.\tиспользовать женщинсмертница\n",
            "31.\tиспользовать водомет\n",
            "32.\tоказаться втянутый\n",
            "33.\tоказаться козлый\n",
            "34.\tпровести демонстрация\n",
            "35.\tдать наказ\n",
            "36.\tдать бог\n",
            "37.\tдать отмашка\n",
            "38.\tутверждать очевидец\n",
            "39.\tобъявить персона\n",
            "40.\tговорить PR\n",
            "41.\tарестовывать заочно|Как\n",
            "42.\tиметь допуск\n",
            "43.\tявляться вторжение\n",
            "44.\tнаправить альтернативщик\n",
            "45.\tнаправить всуд\n",
            "46.\tявляться гостайный\n",
            "47.\tявляться препятствие\n",
            "48.\tявляться веха\n",
            "49.\tявляться детище\n",
            "50.\tнаходиться обвиняемай\n",
            "51.\tприговорить взяточница\n",
            "52.\tполучить компромат\n",
            "53.\tобвинять ввымогательстве\n",
            "54.\tпринадлежать аэробус\n",
            "55.\tтребовать ужесточение\n",
            "56.\tтребовать одобрение\n",
            "57.\tтребовать депозит\n",
            "58.\tпояснить облпрокуратура\n",
            "59.\tпредъявить ультиматум\n",
            "60.\tстать итогой\n",
            "61.\tявляться инструмент\n",
            "62.\tявляться законодатель\n",
            "63.\tнаходиться проспект\n",
            "64.\tзаявить конгрессмен\n",
            "65.\tвыплатить компенсация\n",
            "66.\tдоказать неправомерность\n",
            "67.\tиметь доверенность\n",
            "68.\tсказать председательствовать\n",
            "69.\tсчитать пособник\n",
            "70.\tподать апелляция\n",
            "71.\tделать замечание\n",
            "72.\tделать камера\n",
            "73.\tпринадлежать танкер\n",
            "74.\tявляться воздействие\n",
            "75.\tявляться монополист\n",
            "76.\tпризнать соответчикий\n",
            "77.\tпризнать законными|Суд\n",
            "78.\tудовлетворить иски\n",
            "79.\tтребовать перераспределение\n",
            "80.\tпройти пикет\n",
            "81.\tобъявить голодовка\n",
            "82.\tназначить пенсия\n"
          ],
          "name": "stdout"
        }
      ]
    },
    {
      "cell_type": "markdown",
      "metadata": {
        "id": "aI-4T9YeprhY",
        "colab_type": "text"
      },
      "source": [
        "Выберем такие биграммы, слова в которых значительно чаще встречаются друг с другом, чем с основной массой других и/или образуют вместе особый контекст:"
      ]
    },
    {
      "cell_type": "code",
      "metadata": {
        "id": "KviVgzcVp3_G",
        "colab_type": "code",
        "colab": {}
      },
      "source": [
        "add_to_collocations = [2, 6, 8, 36, 37, 59, 65, 70, 71, 81]"
      ],
      "execution_count": 0,
      "outputs": []
    },
    {
      "cell_type": "code",
      "metadata": {
        "id": "_Kc4uvJiqvQE",
        "colab_type": "code",
        "colab": {}
      },
      "source": [
        "final_golden = [el[0] for el in golden_top_intersect]\n",
        "for i in add_to_collocations:\n",
        "  final_golden.append(out_of_intersect[i])"
      ],
      "execution_count": 0,
      "outputs": []
    },
    {
      "cell_type": "code",
      "metadata": {
        "colab_type": "code",
        "outputId": "e736dc14-508f-4168-adec-0a631f034ccc",
        "id": "_miyj6jwrJj6",
        "colab": {
          "base_uri": "https://localhost:8080/",
          "height": 476
        }
      },
      "source": [
        "final_golden"
      ],
      "execution_count": 45,
      "outputs": [
        {
          "output_type": "execute_result",
          "data": {
            "text/plain": [
              "[('подать', 'иск'),\n",
              " ('удовлетворить', 'иск'),\n",
              " ('провести', 'обыск'),\n",
              " ('дать', 'согласие'),\n",
              " ('принять', 'решение'),\n",
              " ('объявить', 'перерыв'),\n",
              " ('вынести', 'приговор'),\n",
              " ('делать', 'акцент'),\n",
              " ('вынести', 'решение'),\n",
              " ('предъявить', 'обвинение'),\n",
              " ('дать', 'добро'),\n",
              " ('дать', 'пощечин'),\n",
              " ('принять', 'резолюция'),\n",
              " ('обжаловать', 'решение'),\n",
              " ('принять', 'ислам'),\n",
              " ('рассмотреть', 'жалоба'),\n",
              " ('отменить', 'постановление'),\n",
              " ('удовлетворить', 'ходатайство'),\n",
              " ('выплатить', 'штрафа'),\n",
              " ('иметь', 'право'),\n",
              " ('дать', 'бог'),\n",
              " ('дать', 'отмашка'),\n",
              " ('предъявить', 'ультиматум'),\n",
              " ('выплатить', 'компенсация'),\n",
              " ('подать', 'апелляция'),\n",
              " ('делать', 'замечание'),\n",
              " ('объявить', 'голодовка')]"
            ]
          },
          "metadata": {
            "tags": []
          },
          "execution_count": 45
        }
      ]
    }
  ]
}